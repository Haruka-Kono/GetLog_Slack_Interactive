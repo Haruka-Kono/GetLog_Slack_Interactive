{
 "cells": [
  {
   "cell_type": "markdown",
   "id": "f7d98acd-d757-4527-a4a4-df281b366469",
   "metadata": {},
   "source": [
    "# For Getting channels log"
   ]
  },
  {
   "cell_type": "markdown",
   "id": "ec5ae294-67ad-452b-b89c-83e848b35c10",
   "metadata": {},
   "source": [
    "## Import modules"
   ]
  },
  {
   "cell_type": "code",
   "execution_count": null,
   "id": "8c473438-f06a-4d49-a98b-c8a3d7f27690",
   "metadata": {
    "tags": []
   },
   "outputs": [],
   "source": [
    "import os\n",
    "from slack_sdk import WebClient\n",
    "import pandas as pd\n",
    "import numpy as np\n",
    "import datetime\n",
    "from collections import OrderedDict\n",
    "import openpyxl\n",
    "import urllib"
   ]
  },
  {
   "cell_type": "markdown",
   "id": "66cd7c86-65da-4d18-b07f-11c2dde76056",
   "metadata": {
    "tags": []
   },
   "source": [
    "## WebApp settings"
   ]
  },
  {
   "cell_type": "code",
   "execution_count": null,
   "id": "a34e3a8d-d277-4fd6-86fb-95b9d1b051d4",
   "metadata": {},
   "outputs": [],
   "source": [
    "proxy = urllib.request.getproxies().get('http')\n",
    "print(proxy)\n",
    "client = WebClient(token=os.environ['TEST_CH_BOT_TOKEN'], proxy=proxy)\n",
    "uclient = WebClient(token=os.environ['TEST_CH_USER_TOKEN'], proxy=proxy)"
   ]
  },
  {
   "cell_type": "markdown",
   "id": "52945379-7bd2-43d9-98b3-0fab23b53d72",
   "metadata": {},
   "source": [
    "## get log of messages (without replies)"
   ]
  },
  {
   "cell_type": "markdown",
   "id": "e375db84-558b-4349-becd-49c13b95050c",
   "metadata": {
    "tags": []
   },
   "source": [
    "### get users info for retrive DM log"
   ]
  },
  {
   "cell_type": "markdown",
   "id": "c8b37b88-e052-4700-b80e-3395376078cc",
   "metadata": {},
   "source": [
    "#### create table contains user ids and names"
   ]
  },
  {
   "cell_type": "code",
   "execution_count": null,
   "id": "acd67bac-e6e5-45a7-9f2c-b010638a0a22",
   "metadata": {
    "scrolled": true,
    "tags": []
   },
   "outputs": [],
   "source": [
    "# get users data\n",
    "users_info = uclient.users_list().get('members')\n",
    "df_users_info = pd.json_normalize(users_info)\n",
    "\n",
    "# create list of user_id and names\n",
    "user_id_names = []\n",
    "for i in zip(df_users_info['id'], df_users_info['real_name']):\n",
    "    user_id_names.append(i)\n",
    "df_user_id_names = pd.DataFrame(user_id_names,columns=['id', 'real_name']).fillna('deleted user').astype({'real_name': str})\n",
    "df_user_id_names"
   ]
  },
  {
   "cell_type": "markdown",
   "id": "7c540c4b-4a67-49b6-a709-983317c4e5a9",
   "metadata": {},
   "source": [
    "#### specify user whom you want to retrive logs of DM with"
   ]
  },
  {
   "cell_type": "code",
   "execution_count": null,
   "id": "08f5095e-7cef-4b38-ac29-4a2abab10efd",
   "metadata": {
    "tags": []
   },
   "outputs": [],
   "source": [
    "# select number on the left of 'id' column above table\n",
    "usr_idx = 4 # example: 'test_user'\n",
    "\n",
    "dm_user_id = df_user_id_names['id'][usr_idx]\n",
    "dm_user_name = df_user_id_names['real_name'][usr_idx]\n",
    "print('Specified user: '+dm_user_name)"
   ]
  },
  {
   "cell_type": "markdown",
   "id": "535d58dc-7f74-401c-a3eb-0e08c3900a8e",
   "metadata": {},
   "source": [
    "#### retrive id of DM channel"
   ]
  },
  {
   "cell_type": "code",
   "execution_count": null,
   "id": "ce944961-5b03-49ca-aefe-65a204cebd43",
   "metadata": {},
   "outputs": [],
   "source": [
    "dm_info = uclient.conversations_open(users=dm_user_id) \n",
    "print(dm_info)\n",
    "dm = dm_info.get('channel')\n",
    "print(dm['id'])"
   ]
  },
  {
   "cell_type": "markdown",
   "id": "27da43b0-19db-4abb-8d2e-197e4553e87c",
   "metadata": {
    "tags": []
   },
   "source": [
    "### get messages log for specified ch"
   ]
  },
  {
   "cell_type": "markdown",
   "id": "386f0a55-75f7-41a8-8ead-acd81dffff29",
   "metadata": {
    "tags": []
   },
   "source": [
    "#### retrive raw data and create table of messages log"
   ]
  },
  {
   "cell_type": "code",
   "execution_count": null,
   "id": "b8c476b2-e6bf-43b6-bd30-c83a8153fa9d",
   "metadata": {
    "scrolled": true,
    "tags": []
   },
   "outputs": [],
   "source": [
    "# get DM logs    \n",
    "log_dm = uclient.conversations_history(channel=dm['id']) # it is raw data without replies\n",
    "log_dm_ms = log_dm['messages']\n",
    "list_log = []\n",
    "df_log_dm_ms = pd.json_normalize(log_dm_ms)\n",
    "i = 0\n",
    "\n",
    "# can get over 100 messages\n",
    "if log_dm['has_more'] == True:\n",
    "    while log_dm['has_more'] == True:\n",
    "        log_dm = uclient.conversations_history(channel=dm['id'], cursor=log_dm['response_metadata']['next_cursor'])\n",
    "        log_dm_ms_n = log_dm['messages']\n",
    "        list_log.append(log_dm['messages'])\n",
    "\n",
    "        df_log_dm_ms_n = pd.json_normalize(log_dm_ms_n)\n",
    "        df_log_dm_ms = df_log_dm_ms.append(df_log_dm_ms_n)\n",
    "        i += 1\n",
    "print(i)\n",
    "\n",
    "flat = [x for row in list_log for x in row]\n",
    "log_dm_ms.extend(flat) # log_dm_ms can be stored over 100 logs\n",
    "print(len(log_dm_ms)) # num of messages\n",
    "df_log_dm_ms.columns"
   ]
  },
  {
   "cell_type": "markdown",
   "id": "b22682cf-c6ff-4b8a-b28a-cf02f7cd86e1",
   "metadata": {},
   "source": [
    "#### select info what you want to retrive and format table"
   ]
  },
  {
   "cell_type": "code",
   "execution_count": null,
   "id": "a63cd1be-e3a3-4386-9d2f-20cd94feb204",
   "metadata": {
    "scrolled": true,
    "tags": []
   },
   "outputs": [],
   "source": [
    "# select columns to use\n",
    "reindex_col = ['type', 'thread_ts', 'ts', 'user', 'text', 'reply_count', 'reply_users_count']\n",
    "df_log_dm_ms = df_log_dm_ms.reindex(columns=reindex_col)\n",
    "df_log_dm_ms"
   ]
  },
  {
   "cell_type": "markdown",
   "id": "70cd0aeb-934c-4f34-a61d-b64f3f89e4c0",
   "metadata": {},
   "source": [
    "### (in MESSAGES) retrive attached files and create table contains file name and download url"
   ]
  },
  {
   "cell_type": "code",
   "execution_count": null,
   "id": "452f6079-6236-448d-b891-72dd1395ce84",
   "metadata": {
    "tags": []
   },
   "outputs": [],
   "source": [
    "# extract value of files key\n",
    "files = []\n",
    "for i in df_log_dm_ms.index:\n",
    "    if 'files' in log_dm_ms[i].keys():\n",
    "        files.append(log_dm_ms[i]['files'][0])\n",
    "    else:\n",
    "        files.append({'name': 'None', 'url_private_download': 'None'})  \n",
    "\n",
    "# create df of files and rename columns\n",
    "df_dm_files = pd.json_normalize(files)\n",
    "df_dm_files = df_dm_files[['name', 'url_private_download']]\n",
    "df_dm_files = df_dm_files.rename(columns={'name': 'FileName', 'url_private_download': 'FileURL'})\n",
    "df_dm_files"
   ]
  },
  {
   "cell_type": "markdown",
   "id": "2a6e6ac3-0352-41c1-84d0-d556ec0ce3dc",
   "metadata": {
    "tags": []
   },
   "source": [
    "### combine MESSAGE table with file rep table and sort by ts"
   ]
  },
  {
   "cell_type": "code",
   "execution_count": null,
   "id": "fa267f1c-8822-44fa-b9df-39a4ded096ec",
   "metadata": {
    "scrolled": true,
    "tags": []
   },
   "outputs": [],
   "source": [
    "df_dm_log_ms = pd.concat([df_log_dm_ms, df_dm_files], axis=1).sort_values(by='ts').reset_index().drop(columns='index')\n",
    "df_dm_log_ms "
   ]
  },
  {
   "cell_type": "markdown",
   "id": "093bb74e-0f76-4869-8f10-13bb73ecbffe",
   "metadata": {},
   "source": [
    "---\n",
    "## get replies to associate with each replies by parent messages"
   ]
  },
  {
   "cell_type": "markdown",
   "id": "2a173e0a-64ca-48c4-8b09-f2c9c7a6ad27",
   "metadata": {},
   "source": [
    "### search messages including replies and retrive reps with parent messages"
   ]
  },
  {
   "cell_type": "code",
   "execution_count": null,
   "id": "ce04b075-2da3-48c9-8166-327dc0064f2b",
   "metadata": {},
   "outputs": [],
   "source": [
    "channel_id = dm['id']\n",
    "threads = []\n",
    "for i in df_dm_log_ms.index:\n",
    "    if np.isnan(df_dm_log_ms['reply_count'][i]) == False:\n",
    "        thr = uclient.conversations_replies(channel=channel_id, ts=df_dm_log_ms['thread_ts'][i]) # it is raw data of replies\n",
    "        thr_ms = thr.get('messages')\n",
    "        threads.append(thr_ms)"
   ]
  },
  {
   "cell_type": "code",
   "execution_count": null,
   "id": "729533f2-2166-4144-b8a1-d3f9c08801e0",
   "metadata": {},
   "outputs": [],
   "source": [
    "reps = []\n",
    "for i in range(len(threads)):\n",
    "    rep = threads[i]\n",
    "    for j in range(len(rep)):\n",
    "        #print(rep[i])\n",
    "        reps.append(rep[j])\n",
    "print(len(reps))"
   ]
  },
  {
   "cell_type": "markdown",
   "id": "7ddd0ccd-caf6-4498-9423-45b0a9f3ac21",
   "metadata": {},
   "source": [
    "### following steps for create table contains messages and reps\n",
    "#### create reply table\n",
    "#### (in REPLIES) retrive attached files and create table contains file name and download url\n",
    "#### combine REPLY table with FILE table and sort by timestamp"
   ]
  },
  {
   "cell_type": "code",
   "execution_count": null,
   "id": "f7da1259-8d98-4c0c-9cc9-bc3cb84c8d5b",
   "metadata": {
    "scrolled": true,
    "tags": []
   },
   "outputs": [],
   "source": [
    "if len(reps) != 0:\n",
    "    # create reply table\n",
    "    reindex_col = ['type', 'thread_ts', 'ts', 'user', 'text', 'reply_count', 'reply_users_count']\n",
    "    df_dm_rep = pd.json_normalize(reps).reindex(columns=reindex_col)\n",
    "    \n",
    "    \n",
    "    # (in REPLIES) retrive attached files and create table contains file name and download url\n",
    "    files_rep = []\n",
    "    for i in df_dm_rep.index:\n",
    "        if 'files' in reps[i].keys():\n",
    "            files_rep.append(reps[i]['files'][0])\n",
    "        else:\n",
    "            files_rep.append({'name': 'None', 'url_private_download': 'None'})  \n",
    "    \n",
    "    df_rep_files = pd.json_normalize(files)\n",
    "    df_rep_files = df_rep_files[['name', 'url_private_download']]\n",
    "    df_rep_files = df_rep_files.rename(columns={'name': 'FileName', 'url_private_download': 'FileURL'})\n",
    "    print(df_rep_files)\n",
    "    \n",
    "    \n",
    "    # combine REPLY table with FILE table and sort by thread_ts\n",
    "    df_dm_rep_log = pd.concat([df_dm_rep, df_rep_files], axis=1).sort_values(by='thread_ts').reset_index().drop(columns='index')\n",
    "    df_dm_rep_log['type']='thread'\n",
    "    print(df_dm_rep_log)\n",
    "    \n",
    "    \n",
    "    # combine MESSAGE with REPLY \n",
    "    df_dm_log = pd.concat([df_dm_log_ms, df_dm_rep_log])\n",
    "    # remove duplicated parent messages by drop_duplicates\n",
    "    df_dm_log = df_dm_log.drop_duplicates(subset = ['text', 'ts'], keep='last').reset_index().drop(columns='index')\n",
    "\n",
    "else:\n",
    "    df_dm_log = df_dm_log_ms\n",
    "\n",
    "df_dm_log"
   ]
  },
  {
   "cell_type": "markdown",
   "id": "a3d127d0-8e5a-4d43-9aa8-e90b4070348b",
   "metadata": {},
   "source": [
    "## shape table"
   ]
  },
  {
   "cell_type": "markdown",
   "id": "5ebfb9ab-c347-4c81-a259-0239310f16ae",
   "metadata": {},
   "source": [
    "### convert dtypes of ts and thread_ts, from str to float, and replace NaN to 'None'"
   ]
  },
  {
   "cell_type": "code",
   "execution_count": null,
   "id": "a6f192bb-5048-4a9a-b9d1-67648ee290e9",
   "metadata": {
    "scrolled": true,
    "tags": []
   },
   "outputs": [],
   "source": [
    "df_dm_log_astype = df_dm_log.astype({'ts': float, 'thread_ts': float}).fillna('None')\n",
    "df_dm_log_astype"
   ]
  },
  {
   "cell_type": "markdown",
   "id": "366f65a0-d87f-4796-adbf-e55725eaee13",
   "metadata": {},
   "source": [
    "### replace UNIX DATE to formatted one and separate ts to date and time (for multiindex)"
   ]
  },
  {
   "cell_type": "code",
   "execution_count": null,
   "id": "cc628d6e-3188-41d3-9166-b74fa9545ad5",
   "metadata": {
    "scrolled": true,
    "tags": []
   },
   "outputs": [],
   "source": [
    "date = []\n",
    "time = []\n",
    "for i in range(len(df_dm_log_astype['ts'])):\n",
    "    if (type(df_dm_log_astype['ts'][i]) == np.float64 or \n",
    "        type(df_dm_log_astype['ts'][i]) == float):\n",
    "        # create list of date        \n",
    "        dt_raw = datetime.date.fromtimestamp(df_dm_log_astype['ts'][i])\n",
    "        dt = dt_raw.strftime('%a, %b %d, %Y')\n",
    "        date.append(dt)\n",
    "        print('finished formatting date')        \n",
    "        \n",
    "        # create list of time\n",
    "        ti_raw = datetime.datetime.fromtimestamp(df_dm_log_astype['ts'][i])\n",
    "        ti = ti_raw.strftime('%H:%M')\n",
    "        time.append(ti)       \n",
    "        print('finished formatting time') \n",
    "\n",
    "    # format thread_ts to datetime\n",
    "    if (type(df_dm_log_astype['thread_ts'][i]) == np.float64 or \n",
    "        type(df_dm_log_astype['thread_ts'][i]) == float):\n",
    "        dtime = datetime.datetime.fromtimestamp(df_dm_log_astype['thread_ts'][i])\n",
    "        df_dm_log_astype.iloc[i, 1] = dtime.strftime('%H:%M, %a, %b %d, %Y')\n",
    "        print ('finished formatting thread_datetime')\n",
    "    \n",
    "    else:\n",
    "        print('thread_ts is not found')\n",
    "\n",
    "        \n",
    "# combine formatted date and time to dataframe\n",
    "df_datetime = pd.DataFrame({'date': date, \n",
    "                            'time': time})\n",
    "df_dm_log_frt = pd.concat([df_datetime, df_dm_log_astype],axis=1).drop(columns='ts')"
   ]
  },
  {
   "cell_type": "markdown",
   "id": "a4058c9b-4e53-4df5-bc06-629f376abc0c",
   "metadata": {
    "tags": []
   },
   "source": [
    "### replace user id in 'names' column to 'real_name'"
   ]
  },
  {
   "cell_type": "code",
   "execution_count": null,
   "id": "2b11dd60-3163-4a26-a851-8c25ed3e7ad4",
   "metadata": {
    "tags": []
   },
   "outputs": [],
   "source": [
    "for i in df_dm_log_frt.index:\n",
    "    #print(i)\n",
    "    for j in range(len(user_id_names)):\n",
    "        if df_dm_log_frt.user[i] == df_user_id_names['id'][j]:\n",
    "            df_dm_log_frt.user[i] = df_user_id_names['real_name'][j]"
   ]
  },
  {
   "cell_type": "markdown",
   "id": "ca82f1df-33ec-4c31-a1e7-6d4231963da0",
   "metadata": {},
   "source": [
    "### replace user id in 'text' column to 'real_name' (maybe able to merge above cell?)"
   ]
  },
  {
   "cell_type": "code",
   "execution_count": null,
   "id": "4b203256-91ad-4dca-a917-830b8a77091c",
   "metadata": {},
   "outputs": [],
   "source": [
    "for i in df_dm_log_frt.index:\n",
    "    for j in df_user_id_names.index:\n",
    "        if user_id_names[j][0] in df_dm_log_frt['text'][i]:\n",
    "            df_dm_log_frt['text'][i] = df_dm_log_frt['text'][i].replace(df_user_id_names['id'][j], df_user_id_names['real_name'][j])\n",
    "        else:\n",
    "            continue"
   ]
  },
  {
   "cell_type": "markdown",
   "id": "ac502f64-78ed-47b0-b7d6-f65acd35722d",
   "metadata": {},
   "source": [
    "### for only uploading file (None of text fields)"
   ]
  },
  {
   "cell_type": "code",
   "execution_count": null,
   "id": "b78bd740-9364-4da8-8305-78dc731105db",
   "metadata": {
    "tags": []
   },
   "outputs": [],
   "source": [
    "for i in df_dm_log_frt.index:\n",
    "    if df_dm_log_frt.text[i] == '':\n",
    "        df_dm_log_frt.text[i] = 'attached file(s) only'\n",
    "    else:\n",
    "        continue"
   ]
  },
  {
   "cell_type": "markdown",
   "id": "0f2018a0-5394-4708-a083-f278345cab83",
   "metadata": {},
   "source": [
    "### check result of formatting and replacing"
   ]
  },
  {
   "cell_type": "code",
   "execution_count": null,
   "id": "947c9efa-e0c6-4eee-9c1b-3ea78d6cb8de",
   "metadata": {
    "scrolled": true,
    "tags": []
   },
   "outputs": [],
   "source": [
    "df_dm_log_frt"
   ]
  },
  {
   "cell_type": "markdown",
   "id": "9bf52fb5-3da1-4011-954c-b910a77cc8b9",
   "metadata": {
    "tags": []
   },
   "source": [
    "### multiIndex"
   ]
  },
  {
   "cell_type": "code",
   "execution_count": null,
   "id": "111e4cea-34c4-464f-b7e8-391b1c480695",
   "metadata": {
    "scrolled": true,
    "tags": []
   },
   "outputs": [],
   "source": [
    "df_dm_log_frt_mi = df_dm_log_frt.set_index(['type', 'thread_ts', 'date', 'time'])\n",
    "df_dm_log_frt_mi"
   ]
  },
  {
   "cell_type": "markdown",
   "id": "9ce533cd-37f7-44a9-81bd-fa525c7cb9dd",
   "metadata": {
    "tags": []
   },
   "source": [
    "## export files"
   ]
  },
  {
   "cell_type": "markdown",
   "id": "91351b3c-f670-456d-9912-5622bd1912b8",
   "metadata": {
    "tags": []
   },
   "source": [
    "### setting *you can custom something (year, path, etc.)"
   ]
  },
  {
   "cell_type": "code",
   "execution_count": null,
   "id": "9223eee0-134c-49d3-b211-9b24bee45538",
   "metadata": {},
   "outputs": [],
   "source": [
    "my_name = df_user_id_names['real_name'][4] # or specify manually (ex. my_name = 'test')\n",
    "print('your name: '+my_name+', dm_ch_user: '+dm_user_name)"
   ]
  },
  {
   "cell_type": "code",
   "execution_count": null,
   "id": "c890494f-b25a-4634-8bba-d27b7f12dc8b",
   "metadata": {},
   "outputs": [],
   "source": [
    "backup_date = datetime.date.today()\n",
    "backup_date = backup_date.strftime('%y%m%d')\n",
    "\n",
    "# DO NOT FORGET MODIFY YEAR (year of current backup workspace) \n",
    "tgt_ws_year = 2022\n",
    "print(backup_date)\n",
    "print(tgt_ws_year)"
   ]
  },
  {
   "cell_type": "code",
   "execution_count": null,
   "id": "63e7f589-40e0-4b34-8b0e-332ba920d5b3",
   "metadata": {},
   "outputs": [],
   "source": [
    "path_DM = '../DM/'\n",
    "if os.path.exists(path_DM) == False:\n",
    "    %mkdir path_DM\n",
    "else:\n",
    "    print('directory already exists')\n",
    "    \n",
    "path_DM_full = '../DM_full_log/'\n",
    "if os.path.exists(path_DM_full) == False:\n",
    "    %mkdir path_DM_full\n",
    "else:\n",
    "    print('directory already exists')\n",
    "    \n",
    "path_YEAR = str(tgt_ws_year)\n",
    "if os.path.exists(path_DM+path_YEAR) == False:\n",
    "    %mkdir path_DM+path_YEAR\n",
    "else:\n",
    "    print('directory already exists')\n",
    "\n",
    "if os.path.exists(path_DM_full+path_YEAR) == False:\n",
    "    %mkdir path_DM_full+path_YEAR\n",
    "else:\n",
    "    print('directory already exists')"
   ]
  },
  {
   "cell_type": "markdown",
   "id": "b402ce55-7104-4c94-923e-441320b2c128",
   "metadata": {},
   "source": [
    "### export excel file (for remaining multiIndex and encoding automatically)"
   ]
  },
  {
   "cell_type": "code",
   "execution_count": null,
   "id": "30c2dc8d-761e-40bc-ba51-823427dfa4a9",
   "metadata": {},
   "outputs": [],
   "source": [
    "df_dm_log_frt_mi.to_excel(path_DM+path_YEAR+'/DM_log_'+path_YEAR+'_'+my_name+'_'+dm_user_name+'_'+backup_date+'.xlsx')"
   ]
  },
  {
   "cell_type": "markdown",
   "id": "fa69430f-b3af-4c60-8939-13c444a30fec",
   "metadata": {},
   "source": [
    "### export raw file (json format)"
   ]
  },
  {
   "cell_type": "markdown",
   "id": "7bcc1715-dd36-4c8f-b6c5-d537432c1e63",
   "metadata": {},
   "source": [
    "#### not included replies"
   ]
  },
  {
   "cell_type": "code",
   "execution_count": null,
   "id": "ec34577f-ccd8-44b1-aa2b-af4ea026db92",
   "metadata": {
    "tags": []
   },
   "outputs": [],
   "source": [
    "# recommend saving raw data (not included replies)\n",
    "with open(path_DM_full+path_YEAR+'/Raw_dm_log_NOrep'+path_YEAR+'_'+my_name+'_'+dm_user_name+'_'+backup_date+'_.dat', 'w') as f:\n",
    "    print(log_dm, file=f) "
   ]
  },
  {
   "cell_type": "markdown",
   "id": "89fc8402-abdd-4483-9735-827cad54e34f",
   "metadata": {},
   "source": [
    "#### replies data"
   ]
  },
  {
   "cell_type": "code",
   "execution_count": null,
   "id": "54acb360-e604-46f8-b411-25674ca64f84",
   "metadata": {
    "tags": []
   },
   "outputs": [],
   "source": [
    "with open(path_DM_full+path_YEAR+'/Raw_dm_rep_log'+path_YEAR+'_'+my_name+'_'+dm_user_name+'_'+backup_date+'_.dat', 'w') as f:\n",
    "    print(thr, file=f) "
   ]
  }
 ],
 "metadata": {
  "kernelspec": {
   "display_name": "Python 3 (ipykernel)",
   "language": "python",
   "name": "python3"
  },
  "language_info": {
   "codemirror_mode": {
    "name": "ipython",
    "version": 3
   },
   "file_extension": ".py",
   "mimetype": "text/x-python",
   "name": "python",
   "nbconvert_exporter": "python",
   "pygments_lexer": "ipython3",
   "version": "3.9.7"
  },
  "toc-autonumbering": true,
  "widgets": {
   "application/vnd.jupyter.widget-state+json": {
    "state": {},
    "version_major": 2,
    "version_minor": 0
   }
  }
 },
 "nbformat": 4,
 "nbformat_minor": 5
}
