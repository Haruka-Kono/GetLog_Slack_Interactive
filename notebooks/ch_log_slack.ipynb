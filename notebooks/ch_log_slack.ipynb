{
 "cells": [
  {
   "cell_type": "code",
   "execution_count": null,
   "id": "8c473438-f06a-4d49-a98b-c8a3d7f27690",
   "metadata": {},
   "outputs": [],
   "source": [
    "import logging\n",
    "import os\n",
    "from slack_sdk import WebClient\n",
    "from slack_sdk.errors import SlackApiError\n",
    "from slack_bolt import App\n",
    "import pandas as pd\n",
    "import numpy as np\n",
    "import datetime\n",
    "import json\n",
    "from collections import OrderedDict\n",
    "import openpyxl\n",
    "import urllib"
   ]
  },
  {
   "cell_type": "code",
   "execution_count": null,
   "id": "f7d337ee-bb42-4cf5-9710-bff7afa9ffa8",
   "metadata": {},
   "outputs": [],
   "source": [
    "logger = logging.getLogger(__name__)"
   ]
  },
  {
   "cell_type": "code",
   "execution_count": null,
   "id": "0de0c8db-64ea-4438-ade1-c6babef6f016",
   "metadata": {},
   "outputs": [],
   "source": [
    "proxy = urllib.request.getproxies().get('http')\n",
    "print(proxy)\n",
    "client = WebClient(token=os.environ['BOT_TOKEN_HK'], proxy=proxy)\n",
    "uclient = WebClient(token=os.environ['USER_TOKEN_HK'], proxy=proxy)"
   ]
  },
  {
   "cell_type": "code",
   "execution_count": null,
   "id": "2223bb19-6009-4894-be4d-64eb1a6b7b2a",
   "metadata": {
    "scrolled": true,
    "tags": []
   },
   "outputs": [],
   "source": [
    "# get channels info in workspace\n",
    "ws_info = client.conversations_list()\n",
    "ws_info_ch = ws_info.get('channels')\n",
    "df_ch_info = pd.json_normalize(ws_info_ch)\n",
    "print(df_ch_info)\n",
    "print(df_ch_info.columns)"
   ]
  },
  {
   "cell_type": "code",
   "execution_count": null,
   "id": "e66323c8-7c20-46ee-b6ef-38d52a2e791f",
   "metadata": {
    "scrolled": true,
    "tags": []
   },
   "outputs": [],
   "source": [
    "# reindex channel basic info\n",
    "reindex_col_ch = ['id', 'name', 'num_members', 'topic.value', 'purpose.value']\n",
    "df_ch_info = df_ch_info.reindex(columns=reindex_col_ch)"
   ]
  },
  {
   "cell_type": "code",
   "execution_count": null,
   "id": "2f840bee-7dd3-4773-aa52-b3bdb5e760c5",
   "metadata": {},
   "outputs": [],
   "source": [
    "# extract ch_ids and names\n",
    "ch_id_name = []\n",
    "for i in zip(df_ch_info['id'], df_ch_info['name']):\n",
    "    ch_id_name.append(i)"
   ]
  },
  {
   "cell_type": "code",
   "execution_count": null,
   "id": "c34cfb26-eaea-461b-b032-3a621681c07a",
   "metadata": {},
   "outputs": [],
   "source": [
    "df_ch_id_name = df_ch_info[['id', 'name']]\n",
    "print(df_ch_id_name)"
   ]
  },
  {
   "cell_type": "code",
   "execution_count": null,
   "id": "5f762367-eb2f-41f8-944a-d65732d3ce52",
   "metadata": {},
   "outputs": [],
   "source": [
    "# specify channel\n",
    "ch_idx = 0\n",
    "ch_id = df_ch_id_name['id'][ch_idx]\n",
    "ch_name = df_ch_id_name['name'][ch_idx]\n",
    "ch_id"
   ]
  },
  {
   "cell_type": "code",
   "execution_count": null,
   "id": "e1b9cff2-770c-4b2c-aa4c-97fefabf310c",
   "metadata": {
    "scrolled": true,
    "tags": []
   },
   "outputs": [],
   "source": [
    "# get ch message log   \n",
    "ch_log = uclient.conversations_history(channel=ch_id)\n",
    "ch_ms_log = ch_log['messages']\n",
    "list_log = []\n",
    "\n",
    "df_ch_ms_log = pd.json_normalize(ch_ms_log)\n",
    "\n",
    "# can get over 100 messages\n",
    "i = 0\n",
    "if ch_log['has_more'] == True:\n",
    "    while ch_log['has_more'] == True:\n",
    "        ch_log = uclient.conversations_history(channel=ch_id, cursor=ch_log['response_metadata']['next_cursor'])\n",
    "        ch_ms_log_n = ch_log['messages']\n",
    "        list_log.append(ch_log['messages'])\n",
    "\n",
    "        df_ch_ms_log_n = pd.json_normalize(ch_ms_log_n)\n",
    "        df_ch_ms_log = df_ch_ms_log.append(df_ch_ms_log_n)\n",
    "        i += 1\n",
    "print(i)\n",
    "flat = [x for row in list_log for x in row]\n",
    "ch_ms_log.extend(flat)\n",
    "print(len(ch_ms_log))\n",
    "df_ch_ms_log"
   ]
  },
  {
   "cell_type": "code",
   "execution_count": null,
   "id": "00a4d64d-cb56-4c4b-bb15-8394ddddd68b",
   "metadata": {
    "scrolled": true,
    "tags": []
   },
   "outputs": [],
   "source": [
    "# select columns to use\n",
    "reindex_col = ['type', 'ts', 'user', 'text', 'subtype', 'reply_count', 'reply_users_count', 'thread_ts', 'topic']\n",
    "df_ch_ms_log = df_ch_ms_log.reindex(columns=reindex_col).reset_index().drop(columns='index')\n",
    "df_ch_ms_log"
   ]
  },
  {
   "cell_type": "code",
   "execution_count": null,
   "id": "452f6079-6236-448d-b891-72dd1395ce84",
   "metadata": {},
   "outputs": [],
   "source": [
    "# extract value of files key\n",
    "files = []\n",
    "for i in range(len(ch_ms_log)):\n",
    "    if 'files' in ch_ms_log[i].keys():\n",
    "        files.append(ch_ms_log[i]['files'][0])\n",
    "    else:\n",
    "        files.append({'name': 'None', 'url_private_download': 'None'})  "
   ]
  },
  {
   "cell_type": "code",
   "execution_count": null,
   "id": "4105dea4-0df5-483a-a0b7-e8f2a88eb47d",
   "metadata": {
    "scrolled": true,
    "tags": []
   },
   "outputs": [],
   "source": [
    "# create df of files and rename columns\n",
    "df_ch_files = pd.json_normalize(files)\n",
    "df_ch_files = df_ch_files[['name', 'url_private_download']]\n",
    "df_ch_files.rename(columns={'name': 'FileName', 'url_private_download': 'FileURL'}, inplace=True)\n",
    "df_ch_files"
   ]
  },
  {
   "cell_type": "code",
   "execution_count": null,
   "id": "fa267f1c-8822-44fa-b9df-39a4ded096ec",
   "metadata": {
    "scrolled": true,
    "tags": []
   },
   "outputs": [],
   "source": [
    "df_ch_log = pd.concat([df_ch_ms_log, df_ch_files], axis=1)\n",
    "\n",
    "# query('subtype != \"thread_broadcast\"') maybe unnecessary... because duplicates is dropped later \n",
    "# but prevent causing bugs by fixing it, I remain\n",
    "df_ch_log = df_ch_log.sort_values(by='ts').reset_index().drop('index',axis=1).query('subtype != \"thread_broadcast\"')\n",
    "df_ch_log_mi = df_ch_log.set_index(['type', 'thread_ts', 'ts'])\n",
    "df_ch_log_mi"
   ]
  },
  {
   "cell_type": "code",
   "execution_count": null,
   "id": "af2de66b-edf4-484d-bc25-038fa776c9a4",
   "metadata": {},
   "outputs": [],
   "source": [
    "# get replies to associate with each replies by parent messages\n",
    "threads = []\n",
    "for i in df_ch_log.index:\n",
    "    # 要素がNaNじゃないことの判定\n",
    "    if np.isnan(df_ch_log['reply_count'][i]) == False:\n",
    "        thr = uclient.conversations_replies(channel=ch_id, ts=df_ch_log['thread_ts'][i])\n",
    "        thr_ms = thr.get('messages')\n",
    "        threads.append(thr_ms)"
   ]
  },
  {
   "cell_type": "code",
   "execution_count": null,
   "id": "384d5301-b8ee-465c-89b8-842ac1029dae",
   "metadata": {},
   "outputs": [],
   "source": [
    "reps = []\n",
    "for i in range(len(threads)):\n",
    "    rep = threads[i]\n",
    "    for j in range(len(rep)):\n",
    "        #print(rep[i])\n",
    "        reps.append(rep[j])\n",
    "print(len(reps))"
   ]
  },
  {
   "cell_type": "code",
   "execution_count": null,
   "id": "91ac0312-751e-43e3-adeb-c028c9fa8e5c",
   "metadata": {
    "scrolled": true,
    "tags": []
   },
   "outputs": [],
   "source": [
    "# combine messages (not included replies) with replies included parent messages\n",
    "if len(reps) != 0:\n",
    "    df_ch_rep = pd.json_normalize(reps)\n",
    "    df_ch_rep = df_ch_rep[['type', 'ts', 'user', 'text', 'reply_count', 'reply_users_count', 'thread_ts']]\n",
    "    df_ch_rep = df_ch_rep.sort_values('ts').reset_index().drop(columns='index')\n",
    "    df_ch_rep['type']='thread'\n",
    "    df_ch_rep_mi = df_ch_rep.set_index(['type', 'thread_ts', 'ts'])\n",
    "    \n",
    "    df_ch_log = pd.concat([df_ch_log_mi, df_ch_rep_mi])\n",
    "    \n",
    "    # remove duplicated parent messages by drop_duplicates\n",
    "    df_ch_log = df_ch_log.reset_index().drop_duplicates(subset = ['text', 'ts'], keep='last').reset_index().drop(columns='index')\n",
    "\n",
    "else:\n",
    "    df_ch_log = df_ch_log_mi.reset_index()\n",
    "\n",
    "df_ch_log"
   ]
  },
  {
   "cell_type": "code",
   "execution_count": null,
   "id": "738c57fc-4aa2-4a8f-8b3f-bb2306a57825",
   "metadata": {
    "scrolled": true,
    "tags": []
   },
   "outputs": [],
   "source": [
    "# convert dtypes of ts and thread_ts, from str to float, and replace NaN to 'None'\n",
    "df_ch_log_astype = df_ch_log.astype({'ts': float, 'thread_ts': float}).fillna('None')\n",
    "df_ch_log_astype"
   ]
  },
  {
   "cell_type": "code",
   "execution_count": null,
   "id": "cc628d6e-3188-41d3-9166-b74fa9545ad5",
   "metadata": {
    "scrolled": true,
    "tags": []
   },
   "outputs": [],
   "source": [
    "# replace UNIX DATE to formatted one and separate ts to date and time (for multiindex)\n",
    "date = []\n",
    "time = []\n",
    "for i in df_ch_log_astype.index:\n",
    "    if (type(df_ch_log_astype['ts'][i]) == np.float64 or \n",
    "        type(df_ch_log_astype['ts'][i]) == float):\n",
    "        # create list of date\n",
    "        dt_raw = datetime.date.fromtimestamp(df_ch_log_astype['ts'][i])\n",
    "        dt = dt_raw.strftime('%a, %b %d, %Y')\n",
    "        date.append(dt)\n",
    "        print('finished formatting ts to date')        \n",
    "        \n",
    "        # create list of time\n",
    "        ti_raw = datetime.datetime.fromtimestamp(df_ch_log_astype['ts'][i])\n",
    "        ti = ti_raw.strftime('%H:%M')\n",
    "        time.append(ti)\n",
    "        print('finished formatting ts to time') \n",
    "    \n",
    "    # format thread_ts to datetime\n",
    "    if (type(df_ch_log_astype['thread_ts'][i]) == np.float64 or \n",
    "        type(df_ch_log_astype['thread_ts'][i]) == float):\n",
    "        dtime = datetime.datetime.fromtimestamp(df_ch_log_astype['thread_ts'][i])\n",
    "        df_ch_log_astype.iloc[i, 1] = dtime.strftime('%H:%M, %a, %b %d, %Y')\n",
    "        print ('finished formatting thread_ts')\n",
    "    \n",
    "    else:\n",
    "        print('thread_ts is not found')"
   ]
  },
  {
   "cell_type": "code",
   "execution_count": null,
   "id": "57d85bc6-22b4-448a-9544-207dc1031ead",
   "metadata": {
    "scrolled": true,
    "tags": []
   },
   "outputs": [],
   "source": [
    "# combine formatted date and time to dataframe\n",
    "df_datetime = pd.DataFrame({'date': date, \n",
    "                            'time': time})\n",
    "df_ch_log_frt = pd.concat([df_datetime, df_ch_log_astype],axis=1).drop(columns='ts')\n",
    "df_ch_log_frt"
   ]
  },
  {
   "cell_type": "code",
   "execution_count": null,
   "id": "7b03e0ae-1c6d-4194-9656-284837fdadf7",
   "metadata": {
    "scrolled": true,
    "tags": []
   },
   "outputs": [],
   "source": [
    "# get users info\n",
    "users_info = client.users_list().get('members')\n",
    "df_users_info = pd.json_normalize(users_info)"
   ]
  },
  {
   "cell_type": "code",
   "execution_count": null,
   "id": "9013922a-c7a6-4a1e-a4ce-700f38dce9fa",
   "metadata": {},
   "outputs": [],
   "source": [
    "# create list of user_id and names\n",
    "user_id_names = []\n",
    "for i in zip(df_users_info['id'], df_users_info['real_name']):\n",
    "    user_id_names.append(i)\n",
    "df_user_id_names = pd.DataFrame(user_id_names,columns=['id', 'real_name'])\n",
    "df_user_id_names"
   ]
  },
  {
   "cell_type": "code",
   "execution_count": null,
   "id": "117d6e2b-9cd6-4861-a3d4-e3424b6d6dea",
   "metadata": {
    "tags": []
   },
   "outputs": [],
   "source": [
    "# replace user id in names column to real_name\n",
    "for i in df_ch_log_frt.index:\n",
    "    for j in range(len(user_id_names)):\n",
    "        if df_ch_log_frt.user[i] == user_id_names[j][0]:\n",
    "            df_ch_log_frt.user[i] = user_id_names[j][1]"
   ]
  },
  {
   "cell_type": "code",
   "execution_count": null,
   "id": "bfaa2262-309f-4329-9921-aac8b7664942",
   "metadata": {},
   "outputs": [],
   "source": [
    "# replace user id in text column to real_name (maybe able to merge above cell?)\n",
    "for i in df_ch_log_frt.index:\n",
    "    for j in df_user_id_names.index:\n",
    "        if user_id_names[j][0] in df_ch_log_frt['text'][i]:\n",
    "            df_ch_log_frt['text'][i] = df_ch_log_frt['text'][i].replace(user_id_names[j][0], user_id_names[j][1])\n",
    "        else:\n",
    "            continue"
   ]
  },
  {
   "cell_type": "code",
   "execution_count": null,
   "id": "b78bd740-9364-4da8-8305-78dc731105db",
   "metadata": {
    "tags": []
   },
   "outputs": [],
   "source": [
    "# format only uploading file (None of text fields)\n",
    "for i in df_ch_log_frt.index:\n",
    "    if df_ch_log_frt.text[i] == '':\n",
    "        df_ch_log_frt.text[i] = 'attached file(s) only'\n",
    "    else:\n",
    "        continue"
   ]
  },
  {
   "cell_type": "code",
   "execution_count": null,
   "id": "038447e1-3d91-43c5-9801-eb95a574a4d6",
   "metadata": {
    "scrolled": true,
    "tags": []
   },
   "outputs": [],
   "source": [
    "# check result of formatting and replacing\n",
    "df_ch_log_frt"
   ]
  },
  {
   "cell_type": "code",
   "execution_count": null,
   "id": "14586854-a858-4bc8-8a41-6dcc3648ba4f",
   "metadata": {
    "scrolled": true,
    "tags": []
   },
   "outputs": [],
   "source": [
    "# multiIndex\n",
    "df_ch_log_frt_mi = df_ch_log_frt.set_index(['type', 'thread_ts', 'date', 'time'])\n",
    "df_ch_log_frt_mi"
   ]
  },
  {
   "cell_type": "code",
   "execution_count": null,
   "id": "8190e1a0-f06d-4df5-a8fd-df1bdd1ed7cf",
   "metadata": {},
   "outputs": [],
   "source": [
    "backup_date = datetime.date.today()\n",
    "backup_date = backup_date.strftime('%y%m%d')\n",
    "\n",
    "# DO NOT FORGET MODIFY YEAR (year of current backup workspace) \n",
    "tgt_ws_year = 2022\n",
    "print(backup_date)\n",
    "print(ch_name)"
   ]
  },
  {
   "cell_type": "code",
   "execution_count": null,
   "id": "bfcf6293-7576-49e5-b93e-4b723cffaa35",
   "metadata": {},
   "outputs": [],
   "source": [
    "path_ch = '../channel/'\n",
    "if os.path.exists(path_ch) == False:\n",
    "    %mkdir path_ch\n",
    "else:\n",
    "    print('directory already exists')\n",
    "    \n",
    "path_ch_full = '../ch_full_log/'\n",
    "if os.path.exists(path_ch_full) == False:\n",
    "    %mkdir path_ch_full\n",
    "else:\n",
    "    print('directory already exists')\n",
    "    \n",
    "path_YEAR = str(tgt_ws_year)\n",
    "if os.path.exists(path_ch+path_YEAR) == False:\n",
    "    %mkdir path_ch+path_YEAR\n",
    "else:\n",
    "    print('directory already exists')\n",
    "\n",
    "if os.path.exists(path_ch_full+path_YEAR) == False:\n",
    "    %mkdir path_ch_full+path_YEAR\n",
    "else:\n",
    "    print('directory already exists')"
   ]
  },
  {
   "cell_type": "code",
   "execution_count": null,
   "id": "d85e98a7-eb27-402a-aa21-81d4585032b6",
   "metadata": {},
   "outputs": [],
   "source": [
    "# to export excel file (for remaining multiIndex and encoding automatically)\n",
    "df_ch_log_frt_mi.to_excel(path_ch+path_YEAR+'/log_ch_'+path_YEAR+'_'+ch_name+'_'+backup_date+'.xlsx')"
   ]
  },
  {
   "cell_type": "code",
   "execution_count": null,
   "id": "cb845cf1-8056-4d67-922a-45a778999829",
   "metadata": {},
   "outputs": [],
   "source": [
    "# recommend saving raw data (not included replies)\n",
    "with open(path_ch_full+path_YEAR+'/Raw_ch_log_NOrep_'+path_YEAR+'_'+ch_name+'_'+backup_date+'.dat', 'w') as f:\n",
    "    print(ch_log, file=f) "
   ]
  },
  {
   "cell_type": "code",
   "execution_count": null,
   "id": "d029281e-f438-4b16-a7d4-35291d36e910",
   "metadata": {
    "tags": []
   },
   "outputs": [],
   "source": [
    "# replies raw data\n",
    "with open(path_ch_full+path_YEAR+'/Raw_ch_rep_log_'+path_YEAR+'_'+ch_name+'_'+backup_date+'.dat', 'w') as f:\n",
    "    print(thr, file=f) "
   ]
  }
 ],
 "metadata": {
  "kernelspec": {
   "display_name": "Python 3 (ipykernel)",
   "language": "python",
   "name": "python3"
  },
  "language_info": {
   "codemirror_mode": {
    "name": "ipython",
    "version": 3
   },
   "file_extension": ".py",
   "mimetype": "text/x-python",
   "name": "python",
   "nbconvert_exporter": "python",
   "pygments_lexer": "ipython3",
   "version": "3.9.7"
  },
  "widgets": {
   "application/vnd.jupyter.widget-state+json": {
    "state": {},
    "version_major": 2,
    "version_minor": 0
   }
  }
 },
 "nbformat": 4,
 "nbformat_minor": 5
}
